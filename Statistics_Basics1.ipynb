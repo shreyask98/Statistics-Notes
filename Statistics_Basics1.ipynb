{
 "cells": [
  {
   "cell_type": "markdown",
   "id": "355cb3f9",
   "metadata": {},
   "source": [
    "# STATISTICS FOR DATA DRIVEN DECISION MAKING"
   ]
  },
  {
   "cell_type": "markdown",
   "id": "34dd5c4d",
   "metadata": {},
   "source": [
    "## CONTENT\n",
    "### An overiew of Statistics\n",
    "### 1.Types of Statistics\n",
    "#### Descriptive Statistics\n",
    "#### Inferential Statistics\n",
    "### 2.Sampling Techniques\n",
    "### 3.Variables \n",
    "### 4.Meaure of Central Tendency \n",
    "### 5.Measure of Dispersion\n",
    "### 6.Percentile\n",
    "### 7.Five Number Sumamry\n",
    "### 8.Box Plot\n",
    "### 9.Histograms\n",
    "\n",
    "\n",
    "\n",
    "\n",
    "\n",
    "\n",
    "\n",
    "\n",
    "## DATA\n",
    "Data simply means that facts or pieces of information\n",
    "\n",
    "Data is a collection of facts, such as numbers, words, measurements, observations or just descriptions of things.\n",
    "\n",
    "## STATISTICS\n",
    "Statistics is the science of collecting, organizing,\n",
    "and analyzing data.\n",
    "#### Examples:\n",
    "The average height of the person in India\n",
    "Predicing the election result from exit polls\n",
    "\n",
    "## 1.TYPE OF STATISTICS\n",
    "Statistics is mainly divided into\n",
    "two categories:\n",
    "#### 1.Descriptive Statistics\n",
    "#### 2.Inferential Statistics\n",
    "\n",
    "\n",
    "\n",
    "\n",
    "### DESCRIPTIVE STATISTICS\n",
    "It is used to describe the data collected and\n",
    "summarize the data and its properties using\n",
    "the measures of central tendencies (mean,\n",
    "median and mode) and the measures of\n",
    "dispersion (variance and standard deviation).\n",
    "#### Exmples:\n",
    "Summarizing the data using\n",
    "Histograms\n",
    "Bar Chart\n",
    "Pie Chart\n",
    "and other different type of plots\n",
    "\n",
    "\n",
    "\n",
    "### INFERENTIAL STATISTICS\n",
    "It consist of collecting sample data and making a\n",
    "conclusion about population data using some\n",
    "experiments.\n",
    "Sample (represented as small circles) is a\n",
    "subset of population (represented\n",
    "as rectangle)\n",
    "#### Example :\n",
    "Predicting the average height of students in\n",
    "university(1000 students) from sample data of a\n",
    "class (60 Students) using hypothesis testing etc.\n",
    "\n",
    "\n",
    "\n",
    "## 2.SAMPLING TECHNIQUES\n",
    "\n",
    "Let us dive into different types\n",
    "of sampling techniques\n",
    "\n",
    "#### 1.Simple Random Sampling\n",
    "\n",
    "#### 2.Stratified Sampling\n",
    "\n",
    "#### 3.Systematic Sampling\n",
    "\n",
    "#### 4.Convenience Sampling\n",
    "\n",
    "\n",
    "\n",
    "### SIMPLE RANDOM SAMPLING\n",
    "In this type, every member of population\n",
    "has equal chances of being selected for\n",
    "sampling\n",
    "#### Example:\n",
    "Selecting a group ( 20 nos.) of students\n",
    "from class of 100 nos.\n",
    "\n",
    "### STRATIFIED SAMPLING\n",
    "stratified sampling is selecting smaple\n",
    "from population in terms of category\n",
    "or group etc.\n",
    "#### Example:\n",
    "Selecting a group(20 boys) of students\n",
    "from class of 100 nos. (boys and girls)\n",
    "\n",
    "### SYSTEMATIC SAMPLING\n",
    "Systematic sampling is sampling method\n",
    "where researchers select members of\n",
    "the population at a regular interval\n",
    "#### Example:\n",
    "Selecting every 5th person at airport to\n",
    "sell a credit card.\n",
    "\n",
    "\n",
    "### CONVENIENCE SAMPLING\n",
    "Conevenience sampling is sampling\n",
    "method where only those who are\n",
    "interested in survey participates.\n",
    "#### Example:\n",
    "Survey Participations\n",
    "\n",
    "\n",
    "\n",
    "## TEST YOUR KNOWLEDGE\n",
    "\n",
    "Select the type of sampling for the\n",
    "questions provided below:\n",
    "#### 1.Survey regarding new technology\n",
    "#### 2.Getting calls for credit cards\n"
   ]
  },
  {
   "cell_type": "markdown",
   "id": "8d28aa33",
   "metadata": {},
   "source": [
    "## 3.VARIABLES\n",
    "### NUMERIC VARIABLE (Quantitative Variable)\n",
    "### DISCRETE VARIABLE\n",
    "A discrete variable is a variable whose value is obtained by counting. \n",
    "#### Example:\n",
    "No. of bank accounts\n",
    "No. of students in class\n",
    "### CONTINUOUS VARIABLE\n",
    "A continuous variable is a variable whose value is obtained by measuring. \n",
    "#### Example:\n",
    "Area under curve\n",
    "probabilty from probility density function\n",
    "\n",
    "### CATEGORICAL VARIABLE (Qualitative Variable)\n",
    "### Nominal Variable\n",
    "A Nominal Variable is measurement of the data can oly be categorized.\n",
    "#### Example:\n",
    "Method of Travel to work for indians.\n",
    "Bus,Car,Bike,Public Transport,Walked\n",
    "\n",
    "### Ordinal Variable\n",
    "A Ordinal Variable is a variable where data can be categorized and ranked.\n",
    "#### Example:\n",
    "Student Behaviour Ranking.\n",
    "Excellent,Very Good,Good,Bad,VeryBad\n",
    " \n",
    "## 4.MEASURE OF CENTRAL TENDENCY\n",
    "#### Parameters are : Mean, Median, Mode\n",
    "\n",
    "### MEAN\n",
    "Mean is simply the avearge of the oberavtions available with us.\n",
    "\n",
    "#### Application:\n",
    "It can be used for filing up the missing values in dataset"
   ]
  },
  {
   "cell_type": "code",
   "execution_count": 1,
   "id": "70a293d2",
   "metadata": {},
   "outputs": [],
   "source": [
    "import numpy as np\n",
    "import pandas as pd\n",
    "import matplotlib.pyplot as plt\n",
    "import seaborn as sns\n",
    "\n",
    "import statistics\n",
    "\n",
    "lc = pd.read_csv(r\"E:\\Imarticus\\Datasets\\LungCapData.csv\") "
   ]
  },
  {
   "cell_type": "code",
   "execution_count": 2,
   "id": "4fdccb58",
   "metadata": {},
   "outputs": [
    {
     "data": {
      "text/plain": [
       "64.83627586206904"
      ]
     },
     "execution_count": 2,
     "metadata": {},
     "output_type": "execute_result"
    }
   ],
   "source": [
    "np.mean(lc[\"Height\"])   ## find the mean of height"
   ]
  },
  {
   "cell_type": "markdown",
   "id": "57d7a881",
   "metadata": {},
   "source": [
    "### MEDIAN\n",
    "First, data is arranged in ascending order and\n",
    "the middle number ( in case of odd number of observations)\n",
    "the average of the middle number (in case of even number of observations)\n",
    "\n",
    "is calcuated as the median of observation\n",
    "\n",
    "#### Application:\n",
    "It can be used for detection of outliers in dataset"
   ]
  },
  {
   "cell_type": "code",
   "execution_count": 2,
   "id": "36b60065",
   "metadata": {},
   "outputs": [
    {
     "data": {
      "text/plain": [
       "65.4"
      ]
     },
     "execution_count": 2,
     "metadata": {},
     "output_type": "execute_result"
    }
   ],
   "source": [
    "np.median(lc[\"Height\"])   ## find the median of height"
   ]
  },
  {
   "cell_type": "markdown",
   "id": "b0fda452",
   "metadata": {},
   "source": [
    "### MODE\n",
    "It is calcuated as observation which is repaeated most number of times in dataset\n",
    "\n",
    "#### Application:\n",
    "\n",
    "It alongwth mean and median can be used for checking the skewness of dataset"
   ]
  },
  {
   "cell_type": "code",
   "execution_count": 3,
   "id": "c9367716",
   "metadata": {},
   "outputs": [
    {
     "data": {
      "text/plain": [
       "65.4"
      ]
     },
     "execution_count": 3,
     "metadata": {},
     "output_type": "execute_result"
    }
   ],
   "source": [
    "statistics.mode(lc[\"Height\"])  ## find mode of height"
   ]
  },
  {
   "cell_type": "markdown",
   "id": "633e44e2",
   "metadata": {},
   "source": [
    "## 5.MEASURE OF DISPERSION\n",
    "##### Parameters are : Variance and Standard Deviation\n",
    "\n",
    "### STANDARD DEVIATION\n",
    "It measures the dispersion of a dataset relative to its mean (population and sample) and is calculated as the square root of the variance."
   ]
  },
  {
   "cell_type": "code",
   "execution_count": 4,
   "id": "48b819bf",
   "metadata": {},
   "outputs": [
    {
     "data": {
      "text/plain": [
       "7.2021440125030605"
      ]
     },
     "execution_count": 4,
     "metadata": {},
     "output_type": "execute_result"
    }
   ],
   "source": [
    "statistics.stdev(lc[\"Height\"])"
   ]
  },
  {
   "cell_type": "markdown",
   "id": "705bfa53",
   "metadata": {},
   "source": [
    "### VARIANCE\n",
    "Variance is the expectation of the squared deviation of a random variable from its population mean or sample mean.\n"
   ]
  },
  {
   "cell_type": "code",
   "execution_count": 5,
   "id": "7834672e",
   "metadata": {},
   "outputs": [
    {
     "data": {
      "text/plain": [
       "51.87087837683369"
      ]
     },
     "execution_count": 5,
     "metadata": {},
     "output_type": "execute_result"
    }
   ],
   "source": [
    "statistics.variance(lc[\"Height\"])"
   ]
  },
  {
   "cell_type": "markdown",
   "id": "17a3023e",
   "metadata": {},
   "source": [
    "## 6.PERCENTILE\n",
    "A percentile is a value below which certain percentage of obervation lie.\n",
    "\n",
    "#### Formula:\n",
    "%ile =\t(100 * (No. of obs. below X))/(Total no. of obs.(n))\n",
    "\n",
    "value at %ile = (%ile * (n+1))/100"
   ]
  },
  {
   "cell_type": "code",
   "execution_count": 12,
   "id": "b5b25315",
   "metadata": {},
   "outputs": [
    {
     "name": "stdout",
     "output_type": "stream",
     "text": [
      "[59.9]\n"
     ]
    },
    {
     "data": {
      "text/plain": [
       "array([59.9, 70.3])"
      ]
     },
     "execution_count": 12,
     "metadata": {},
     "output_type": "execute_result"
    }
   ],
   "source": [
    "# np.percentile(lc[\"Height\"],50)\n",
    "per_25 = np.percentile(lc[\"Height\"],[25])   ## find 25 th percentile\n",
    "print(per_25)\n",
    "\n",
    "np.percentile(lc[\"Height\"],[25,75])"
   ]
  },
  {
   "cell_type": "markdown",
   "id": "0fcd86b2",
   "metadata": {},
   "source": [
    "\n",
    "## 7.FIVE NUMBER SUMMARY\n",
    "Five number summary consists of following values:\n",
    "\n",
    "### 1.\tMinimum\n",
    "### 2.\tFirst Quartile( Q1 = 25th Percentile)\n",
    "### 3.\tMedian\n",
    "### 4.\tThird Quartile (Q3 = 75th Percentile)\n",
    "### 5.\tMaximum\n",
    "\n",
    "\n",
    "The numbers are really helpful to provide quicks insights about numerical data\n",
    " \n",
    "BOX PLOT\n",
    "\n",
    "The boundary of the box plot is declared by deciding the lower fence and higher fence\n",
    "Lower Fence = Q1 - 1.5 (IQR = Q3-Q1)\n",
    "Higher Fence = Q1 + 1.5 (IQR = Q3-Q1)\n",
    "\n",
    "Any observation beyond boundary is considered as an outlier in dataset\n",
    " \n"
   ]
  },
  {
   "cell_type": "code",
   "execution_count": 16,
   "id": "8a436939",
   "metadata": {},
   "outputs": [
    {
     "data": {
      "text/plain": [
       "<AxesSubplot: >"
      ]
     },
     "execution_count": 16,
     "metadata": {},
     "output_type": "execute_result"
    },
    {
     "data": {
      "image/png": "[encoded data removed]",
      "text/plain": [
       "<Figure size 640x480 with 1 Axes>"
      ]
     },
     "metadata": {},
     "output_type": "display_data"
    }
   ],
   "source": [
    "3sns.boxplot(lc[\"LungCap\"]) ##box plot of LungCap with 1 outlier at the lower fence."
   ]
  },
  {
   "cell_type": "markdown",
   "id": "5c2ca462",
   "metadata": {},
   "source": [
    "## Histogram\n",
    "### A histogram is an approximate representation of the distribution of numerical data."
   ]
  },
  {
   "cell_type": "code",
   "execution_count": 3,
   "id": "732f3541",
   "metadata": {},
   "outputs": [
    {
     "data": {
      "text/plain": [
       "<AxesSubplot: xlabel='Height', ylabel='Count'>"
      ]
     },
     "execution_count": 3,
     "metadata": {},
     "output_type": "execute_result"
    },
    {
     "data": {
      "image/png": "[encoded data removed]",
      "text/plain": [
       "<Figure size 640x480 with 1 Axes>"
      ]
     },
     "metadata": {},
     "output_type": "display_data"
    }
   ],
   "source": [
    "sns.histplot(lc[\"Height\"],kde = True)   ## histogram of Height"
   ]
  },
  {
   "cell_type": "markdown",
   "id": "8d62e528",
   "metadata": {},
   "source": [
    "\n"
   ]
  },
  {
   "cell_type": "markdown",
   "id": "87e980fb",
   "metadata": {},
   "source": [
    "## QUESTIONS FOR YOU\n",
    "### The dataset of ages of students in class is given below:"
   ]
  },
  {
   "cell_type": "code",
   "execution_count": 21,
   "id": "9f2bbc5b",
   "metadata": {
    "scrolled": true
   },
   "outputs": [
    {
     "name": "stdout",
     "output_type": "stream",
     "text": [
      "    Numbers\n",
      "0        10\n",
      "1        14\n",
      "2        24\n",
      "3        26\n",
      "4        26\n",
      "5        16\n",
      "6        28\n",
      "7        20\n",
      "8        25\n",
      "9        38\n",
      "10       26\n",
      "11       23\n",
      "12       16\n"
     ]
    }
   ],
   "source": [
    "import pandas as pd\n",
    "import statistics\n",
    "l1 = [ 10,14,24,26,26,16,28,20,25,38,26,23,16 ]\n",
    "df = pd.DataFrame(l1, columns=['Numbers'])\n",
    "print(df)"
   ]
  },
  {
   "cell_type": "markdown",
   "id": "f8e847a8",
   "metadata": {},
   "source": [
    "### 1.\tCalculate mean, median and mode of age in class"
   ]
  },
  {
   "cell_type": "code",
   "execution_count": 22,
   "id": "200ddad1",
   "metadata": {
    "scrolled": true
   },
   "outputs": [
    {
     "name": "stdout",
     "output_type": "stream",
     "text": [
      "mean is: 22.46153846153846\n",
      "median is:  24.0\n",
      "mode is:  24.0\n"
     ]
    }
   ],
   "source": [
    "mean = np.mean(df[\"Numbers\"])\n",
    "median = np.median(df[\"Numbers\"])\n",
    "mode = statistics.mode(df[\"Numbers\"])\n",
    "\n",
    "\n",
    "print(\"mean is:\",mean)\n",
    "print(\"median is: \",median)\n",
    "print(\"mode is: \",median)"
   ]
  },
  {
   "cell_type": "markdown",
   "id": "07663f52",
   "metadata": {},
   "source": []
  },
  {
   "cell_type": "markdown",
   "id": "698016a8",
   "metadata": {},
   "source": [
    "### 2.\tCalcualate variance and standard deviation of class."
   ]
  },
  {
   "cell_type": "code",
   "execution_count": 82,
   "id": "0b128148",
   "metadata": {},
   "outputs": [
    {
     "name": "stdout",
     "output_type": "stream",
     "text": [
      "6.990272192514666\n"
     ]
    }
   ],
   "source": [
    "import numpy as np\n",
    "# Calculating standerd deviation using std()\n",
    "print(np.std(l1))"
   ]
  },
  {
   "cell_type": "code",
   "execution_count": 83,
   "id": "a8b18009",
   "metadata": {},
   "outputs": [
    {
     "name": "stdout",
     "output_type": "stream",
     "text": [
      "48.86390532544379\n"
     ]
    }
   ],
   "source": [
    "# Calculating variance using var()\n",
    "print(np.var(l1))"
   ]
  },
  {
   "cell_type": "markdown",
   "id": "17ec0244",
   "metadata": {},
   "source": [
    "## Normal Distrubution (Gausian Distrubutuion)\n",
    "\n",
    "### Properties of ND\n",
    "1. Mean = Median = Mode\n",
    "2. Noramal Distrubution Syemetric around the mean.\n",
    "3. Bell Shape\n",
    "4. Skewness is Zero (Skewness-Measure of Peakness)\n",
    "    Skewness + (Right Skewness)\n",
    "    Skewness - (Left Skewness)\n",
    "    \n",
    "https://pyshark.com/wp-content/uploads/2021/07/Kurtosis.jpg"
   ]
  },
  {
   "cell_type": "code",
   "execution_count": 24,
   "id": "e2ba9745",
   "metadata": {},
   "outputs": [
    {
     "data": {
      "image/png": "[encoded data removed]",
      "text/plain": [
       "<Figure size 640x480 with 1 Axes>"
      ]
     },
     "metadata": {},
     "output_type": "display_data"
    }
   ],
   "source": [
    "import numpy as np\n",
    "import matplotlib.pyplot as plt\n",
    "  \n",
    "# Generating some random data\n",
    "# for an example\n",
    "data = np.random.normal(170, 10, 250)\n",
    "  \n",
    "# Plotting the histogram.\n",
    "plt.hist(data, bins=25, density=True, alpha=0.6, color='b')\n",
    "  \n",
    "plt.show()\n"
   ]
  },
  {
   "cell_type": "markdown",
   "id": "6bdee913",
   "metadata": {},
   "source": [
    "### What is kurtosis?\n",
    "In statistics, kurtosis is a measure of relative peakedness of a probability distribution, or alternatively \n",
    "how heavy or how light its tails are. A value of kurtosis describes how different the tails of a given probability\n",
    "distribution are from a normal distribution.\n",
    "\n",
    "Kurtosis can take several values:            \t\n",
    "##### Leptokurtic-: Kurtosis >3\t        \n",
    "##### Platykurtic-:\t Kurtosis <3\t       \n",
    "##### Mesokurtic-:\t Kurtosis =3\t        "
   ]
  },
  {
   "cell_type": "code",
   "execution_count": 31,
   "id": "7086be6c",
   "metadata": {},
   "outputs": [
    {
     "data": {
      "image/jpeg": "[encoded data removed]",
      "text/plain": [
       "<IPython.core.display.Image object>"
      ]
     },
     "execution_count": 31,
     "metadata": {},
     "output_type": "execute_result"
    }
   ],
   "source": [
    "from IPython.display import Image\n",
    "Image(filename=r\"Kurtosis.jpg\")"
   ]
  },
  {
   "cell_type": "code",
   "execution_count": null,
   "id": "0c69c7e2",
   "metadata": {},
   "outputs": [],
   "source": []
  },
  {
   "cell_type": "code",
   "execution_count": 22,
   "id": "5a809c93",
   "metadata": {},
   "outputs": [
    {
     "data": {
      "image/png": "[encoded data removed]",
      "text/plain": [
       "<Figure size 640x480 with 1 Axes>"
      ]
     },
     "metadata": {},
     "output_type": "display_data"
    }
   ],
   "source": [
    "# pdf - probability density function\n",
    "x_axis = np.arange(-30, -29, 0.05)\n",
    "  \n",
    "# Calculating mean and standard deviation\n",
    "mean = statistics.mean(x_axis)\n",
    "sd = statistics.stdev(x_axis)\n",
    "  \n",
    "plt.plot(x_axis, norm.pdf(x_axis, mean, sd))\n",
    "plt.show()"
   ]
  },
  {
   "cell_type": "markdown",
   "id": "e3f5c636",
   "metadata": {},
   "source": [
    "## Outliers"
   ]
  },
  {
   "cell_type": "code",
   "execution_count": 4,
   "id": "a9823231",
   "metadata": {},
   "outputs": [
    {
     "data": {
      "text/plain": [
       "[102, 107, 108]"
      ]
     },
     "execution_count": 4,
     "metadata": {},
     "output_type": "execute_result"
    },
    {
     "data": {
      "image/png": "[encoded data removed]",
      "text/plain": [
       "<Figure size 640x480 with 1 Axes>"
      ]
     },
     "metadata": {},
     "output_type": "display_data"
    }
   ],
   "source": [
    "\n",
    "import numpy as np\n",
    "import matplotlib.pyplot as plt\n",
    "%matplotlib inline\n",
    "\n",
    "## Define our dataset\n",
    "dataset= [11,10,12,14,12,15,14,13,15,102,12,14,17,19,107, 10,13,12,14,12,108,12,11,14,13,15,10,15,12,10,14,13,15,10]\n",
    "plt.hist(dataset)\n"
   ]
  },
  {
   "cell_type": "markdown",
   "id": "146bda2b",
   "metadata": {},
   "source": [
    "## Z Score"
   ]
  },
  {
   "cell_type": "code",
   "execution_count": 10,
   "id": "b1849ed5",
   "metadata": {},
   "outputs": [
    {
     "data": {
      "text/plain": [
       "[102, 107, 108]"
      ]
     },
     "execution_count": 10,
     "metadata": {},
     "output_type": "execute_result"
    }
   ],
   "source": [
    "\n",
    "outliers=[]\n",
    "\n",
    "def detect_outliers(data):\n",
    "    threshold=3 ## 3 std deviation\n",
    "    mean=np.mean(data)\n",
    "    std=np.std(data)\n",
    "\n",
    "    for i in data:\n",
    "        z_score=(i-mean)/std\n",
    "        if np.abs(z_score)> threshold:\n",
    "            outliers.append(i)\n",
    "\n",
    "    return outliers\n",
    "\n",
    "\n",
    "\n",
    "\n",
    "detect_outliers(dataset)"
   ]
  },
  {
   "cell_type": "markdown",
   "id": "333de747",
   "metadata": {},
   "source": [
    "### IQR\n",
    " 1. Sort the data\n",
    " 2. Calculate Q1 aqnd Q3\n",
    " 3. IQR(Q3-Q1)\n",
    " 4. Find the Lower fence(q1-1.5(iqr))\n",
    " 5. Find the upper fence(q3+1.5(iqr))\n",
    " dataset=sorted(dataset)\n",
    " dataset"
   ]
  },
  {
   "cell_type": "code",
   "execution_count": 11,
   "id": "2c59194e",
   "metadata": {},
   "outputs": [
    {
     "name": "stdout",
     "output_type": "stream",
     "text": [
      "12.0 15.0\n",
      "3.0\n",
      "7.5 19.5\n"
     ]
    }
   ],
   "source": [
    "q1,q3=np.percentile(dataset,[25,75])\n",
    "print(q1,q3)\n",
    "iqr=q3-q1\n",
    "print(iqr)\n",
    "## Find the lower fence and higher fence\n",
    "lower_fence=q1-(1.5*iqr)\n",
    "higher_fence=q3+(1.5* iqr)\n",
    "print(lower_fence,higher_fence)"
   ]
  },
  {
   "cell_type": "code",
   "execution_count": 3,
   "id": "2ba211f9",
   "metadata": {},
   "outputs": [
    {
     "data": {
      "text/plain": [
       "<AxesSubplot: >"
      ]
     },
     "execution_count": 3,
     "metadata": {},
     "output_type": "execute_result"
    },
    {
     "data": {
      "image/png": "[encoded data removed]",
      "text/plain": [
       "<Figure size 640x480 with 1 Axes>"
      ]
     },
     "metadata": {},
     "output_type": "display_data"
    }
   ],
   "source": [
    "import seaborn as sns\n",
    "\n",
    "sns.boxplot(dataset)"
   ]
  },
  {
   "cell_type": "code",
   "execution_count": null,
   "id": "132425f9",
   "metadata": {},
   "outputs": [],
   "source": []
  }
 ],
 "metadata": {
  "kernelspec": {
   "display_name": "Python 3 (ipykernel)",
   "language": "python",
   "name": "python3"
  },
  "language_info": {
   "codemirror_mode": {
    "name": "ipython",
    "version": 3
   },
   "file_extension": ".py",
   "mimetype": "text/x-python",
   "name": "python",
   "nbconvert_exporter": "python",
   "pygments_lexer": "ipython3",
   "version": "3.8.13"
  }
 },
 "nbformat": 4,
 "nbformat_minor": 5
}
